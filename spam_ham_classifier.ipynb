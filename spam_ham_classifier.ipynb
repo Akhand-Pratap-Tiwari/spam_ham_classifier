{
 "cells": [
  {
   "cell_type": "markdown",
   "metadata": {},
   "source": [
    "## Notebook for analysis of Spam-Ham dataset and developing an ML model for further integration."
   ]
  },
  {
   "cell_type": "markdown",
   "metadata": {},
   "source": [
    "### Imports"
   ]
  },
  {
   "cell_type": "code",
   "execution_count": null,
   "metadata": {},
   "outputs": [],
   "source": [
    "# For analysis and handling data\n",
    "import numpy as np\n",
    "import pandas as pd\n",
    "\n",
    "# For graphing\n",
    "import matplotlib.pyplot as plt\n",
    "import seaborn as sns\n",
    "\n",
    "# For searching\n",
    "import re\n",
    "\n",
    "# For handling textual dataset\n",
    "import nltk\n",
    "\n",
    "# For making train and test splits\n",
    "from sklearn.model_selection import train_test_split\n",
    "\n",
    "# For removing the stopwords\n",
    "from nltk.corpus import stopwords\n",
    "\n",
    "# For removeing the suffixes from an English word and obtain its stem\n",
    "from nltk.stem.porter import PorterStemmer\n",
    "\n",
    "# For converting a collection of text documents into a matrix of token counts\n",
    "from sklearn.feature_extraction.text import CountVectorizer\n",
    "\n",
    "# Actual ML models\n",
    "from sklearn.linear_model import LogisticRegression\n",
    "from sklearn.svm import SVC\n",
    "from sklearn.naive_bayes import MultinomialNB\n",
    "from sklearn.tree import DecisionTreeClassifier\n",
    "from sklearn.neighbors import KNeighborsClassifier\n",
    "from sklearn.ensemble import RandomForestClassifier\n",
    "from sklearn.ensemble import AdaBoostClassifier\n",
    "from sklearn.ensemble import BaggingClassifier\n",
    "from sklearn.ensemble import ExtraTreesClassifier\n",
    "\n",
    "# For metrics and evaluation\n",
    "from sklearn.metrics import accuracy_score\n",
    "from sklearn.metrics import accuracy_score, confusion_matrix\n",
    "\n",
    "# For mulitset operations\n",
    "from collections import Counter"
   ]
  }
 ],
 "metadata": {
  "kernelspec": {
   "display_name": "Python 3",
   "language": "python",
   "name": "python3"
  },
  "language_info": {
   "name": "python",
   "version": "3.11.6"
  }
 },
 "nbformat": 4,
 "nbformat_minor": 2
}
